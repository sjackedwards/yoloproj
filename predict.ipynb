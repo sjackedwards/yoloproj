{
 "cells": [
  {
   "cell_type": "code",
   "execution_count": 28,
   "metadata": {},
   "outputs": [
    {
     "name": "stdout",
     "output_type": "stream",
     "text": [
      "\n",
      "0: 512x512 1 5_of_hearts, 15.0ms\n",
      "Speed: 2.0ms preprocess, 15.0ms inference, 3.0ms postprocess per image at shape (1, 3, 512, 512)\n"
     ]
    }
   ],
   "source": [
    "import cv2\n",
    "import numpy as np\n",
    "from ultralytics import YOLO\n",
    "\n",
    "img = cv2.imread('image_000000.png')\n",
    "\n",
    "model = YOLO('best.pt')\n",
    "results = model(img)\n",
    "\n",
    "H, W, _ = img.shape\n",
    "\n",
    "for result in results:\n",
    "    for j, mask in enumerate(result.masks.data):\n",
    "        mask = mask.cpu().numpy() * 255\n",
    "        mask = cv2.resize(mask, (W, H))\n",
    "\n",
    "        solid_color_mask = np.zeros_like(img)\n",
    "        color = [0, 255, 0]\n",
    "        solid_color_mask[mask > 0] = color\n",
    "\n",
    "        alpha = 0.5\n",
    "        img[mask > 0] = cv2.addWeighted(img[mask > 0], 1 - alpha, solid_color_mask[mask > 0], alpha, 0)\n",
    "\n",
    "cv2.imshow('Transparent Color Overlay', img)\n",
    "cv2.waitKey(0)\n",
    "cv2.destroyAllWindows()\n"
   ]
  }
 ],
 "metadata": {
  "kernelspec": {
   "display_name": "Python 3",
   "language": "python",
   "name": "python3"
  },
  "language_info": {
   "codemirror_mode": {
    "name": "ipython",
    "version": 3
   },
   "file_extension": ".py",
   "mimetype": "text/x-python",
   "name": "python",
   "nbconvert_exporter": "python",
   "pygments_lexer": "ipython3",
   "version": "3.9.12"
  }
 },
 "nbformat": 4,
 "nbformat_minor": 2
}
